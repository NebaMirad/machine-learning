{
 "cells": [
  {
   "cell_type": "code",
   "execution_count": 3,
   "id": "6a4b8435",
   "metadata": {},
   "outputs": [],
   "source": [
    "### loading the necessary packages for the entire project. \n",
    "import pandas as pd\n",
    "import seaborn as sns\n",
    "import matplotlib.pyplot as plt\n",
    "import numpy as np\n",
    "from statsmodels.formula.api import ols \n",
    "from scipy.stats import norm\n",
    "\n",
    "import sklearn \n",
    "\n",
    "from sklearn.linear_model import LinearRegression"
   ]
  },
  {
   "cell_type": "code",
   "execution_count": null,
   "id": "0a0747c5",
   "metadata": {},
   "outputs": [],
   "source": []
  },
  {
   "cell_type": "code",
   "execution_count": 4,
   "id": "6592672a",
   "metadata": {},
   "outputs": [],
   "source": [
    "Data_sale= pd.read_csv( r\"C:\\Users\\akong\\OneDrive\\Desktop\\doc assemble\\data camp files\\pet_sales (1).csv\"          )"
   ]
  },
  {
   "cell_type": "code",
   "execution_count": 5,
   "id": "7421f8a5",
   "metadata": {},
   "outputs": [
    {
     "data": {
      "text/html": [
       "<div>\n",
       "<style scoped>\n",
       "    .dataframe tbody tr th:only-of-type {\n",
       "        vertical-align: middle;\n",
       "    }\n",
       "\n",
       "    .dataframe tbody tr th {\n",
       "        vertical-align: top;\n",
       "    }\n",
       "\n",
       "    .dataframe thead th {\n",
       "        text-align: right;\n",
       "    }\n",
       "</style>\n",
       "<table border=\"1\" class=\"dataframe\">\n",
       "  <thead>\n",
       "    <tr style=\"text-align: right;\">\n",
       "      <th></th>\n",
       "      <th>product_id</th>\n",
       "      <th>product_category</th>\n",
       "      <th>sales</th>\n",
       "      <th>price</th>\n",
       "      <th>vendor_id</th>\n",
       "      <th>pet_size</th>\n",
       "      <th>pet_type</th>\n",
       "      <th>rating</th>\n",
       "      <th>re_buy</th>\n",
       "    </tr>\n",
       "  </thead>\n",
       "  <tbody>\n",
       "    <tr>\n",
       "      <th>0</th>\n",
       "      <td>5040</td>\n",
       "      <td>Equipment</td>\n",
       "      <td>$123,000</td>\n",
       "      <td>94.81</td>\n",
       "      <td>VC_1605</td>\n",
       "      <td>small</td>\n",
       "      <td>fish</td>\n",
       "      <td>7</td>\n",
       "      <td>1</td>\n",
       "    </tr>\n",
       "    <tr>\n",
       "      <th>1</th>\n",
       "      <td>4567</td>\n",
       "      <td>Toys</td>\n",
       "      <td>$61,000</td>\n",
       "      <td>120.95</td>\n",
       "      <td>VC_1132</td>\n",
       "      <td>small</td>\n",
       "      <td>cat</td>\n",
       "      <td>10</td>\n",
       "      <td>0</td>\n",
       "    </tr>\n",
       "    <tr>\n",
       "      <th>2</th>\n",
       "      <td>4237</td>\n",
       "      <td>Toys</td>\n",
       "      <td>$218,000</td>\n",
       "      <td>106.34</td>\n",
       "      <td>VC_802</td>\n",
       "      <td>small</td>\n",
       "      <td>hamster</td>\n",
       "      <td>6</td>\n",
       "      <td>0</td>\n",
       "    </tr>\n",
       "    <tr>\n",
       "      <th>3</th>\n",
       "      <td>4364</td>\n",
       "      <td>Snack</td>\n",
       "      <td>$69,000</td>\n",
       "      <td>241.27</td>\n",
       "      <td>VC_929</td>\n",
       "      <td>large</td>\n",
       "      <td>dog</td>\n",
       "      <td>1</td>\n",
       "      <td>1</td>\n",
       "    </tr>\n",
       "    <tr>\n",
       "      <th>4</th>\n",
       "      <td>4184</td>\n",
       "      <td>Supplements</td>\n",
       "      <td>$138,000</td>\n",
       "      <td>133.68</td>\n",
       "      <td>VC_749</td>\n",
       "      <td>large</td>\n",
       "      <td>dog</td>\n",
       "      <td>10</td>\n",
       "      <td>0</td>\n",
       "    </tr>\n",
       "    <tr>\n",
       "      <th>...</th>\n",
       "      <td>...</td>\n",
       "      <td>...</td>\n",
       "      <td>...</td>\n",
       "      <td>...</td>\n",
       "      <td>...</td>\n",
       "      <td>...</td>\n",
       "      <td>...</td>\n",
       "      <td>...</td>\n",
       "      <td>...</td>\n",
       "    </tr>\n",
       "    <tr>\n",
       "      <th>874</th>\n",
       "      <td>4999</td>\n",
       "      <td>Snack</td>\n",
       "      <td>$27,000</td>\n",
       "      <td>146.93</td>\n",
       "      <td>VC_1564</td>\n",
       "      <td>medium</td>\n",
       "      <td>bird</td>\n",
       "      <td>6</td>\n",
       "      <td>0</td>\n",
       "    </tr>\n",
       "    <tr>\n",
       "      <th>875</th>\n",
       "      <td>4243</td>\n",
       "      <td>Snack</td>\n",
       "      <td>$76,000</td>\n",
       "      <td>174.07</td>\n",
       "      <td>VC_808</td>\n",
       "      <td>medium</td>\n",
       "      <td>hamster</td>\n",
       "      <td>8</td>\n",
       "      <td>0</td>\n",
       "    </tr>\n",
       "    <tr>\n",
       "      <th>876</th>\n",
       "      <td>4783</td>\n",
       "      <td>Snack</td>\n",
       "      <td>$162,000</td>\n",
       "      <td>224.12</td>\n",
       "      <td>VC_1348</td>\n",
       "      <td>medium</td>\n",
       "      <td>cat</td>\n",
       "      <td>7</td>\n",
       "      <td>1</td>\n",
       "    </tr>\n",
       "    <tr>\n",
       "      <th>877</th>\n",
       "      <td>4664</td>\n",
       "      <td>Bedding</td>\n",
       "      <td>$34,000</td>\n",
       "      <td>199.15</td>\n",
       "      <td>VC_1229</td>\n",
       "      <td>large</td>\n",
       "      <td>dog</td>\n",
       "      <td>10</td>\n",
       "      <td>1</td>\n",
       "    </tr>\n",
       "    <tr>\n",
       "      <th>878</th>\n",
       "      <td>4850</td>\n",
       "      <td>Toys</td>\n",
       "      <td>$54,000</td>\n",
       "      <td>171.85</td>\n",
       "      <td>VC_1415</td>\n",
       "      <td>small</td>\n",
       "      <td>dog</td>\n",
       "      <td>1</td>\n",
       "      <td>1</td>\n",
       "    </tr>\n",
       "  </tbody>\n",
       "</table>\n",
       "<p>879 rows × 9 columns</p>\n",
       "</div>"
      ],
      "text/plain": [
       "     product_id product_category      sales   price vendor_id pet_size  \\\n",
       "0          5040        Equipment  $123,000    94.81   VC_1605    small   \n",
       "1          4567             Toys   $61,000   120.95   VC_1132    small   \n",
       "2          4237             Toys  $218,000   106.34    VC_802    small   \n",
       "3          4364            Snack   $69,000   241.27    VC_929    large   \n",
       "4          4184      Supplements  $138,000   133.68    VC_749    large   \n",
       "..          ...              ...        ...     ...       ...      ...   \n",
       "874        4999            Snack   $27,000   146.93   VC_1564   medium   \n",
       "875        4243            Snack   $76,000   174.07    VC_808   medium   \n",
       "876        4783            Snack  $162,000   224.12   VC_1348   medium   \n",
       "877        4664          Bedding   $34,000   199.15   VC_1229    large   \n",
       "878        4850             Toys   $54,000   171.85   VC_1415    small   \n",
       "\n",
       "    pet_type  rating  re_buy  \n",
       "0       fish       7       1  \n",
       "1        cat      10       0  \n",
       "2    hamster       6       0  \n",
       "3        dog       1       1  \n",
       "4        dog      10       0  \n",
       "..       ...     ...     ...  \n",
       "874     bird       6       0  \n",
       "875  hamster       8       0  \n",
       "876      cat       7       1  \n",
       "877      dog      10       1  \n",
       "878      dog       1       1  \n",
       "\n",
       "[879 rows x 9 columns]"
      ]
     },
     "execution_count": 5,
     "metadata": {},
     "output_type": "execute_result"
    }
   ],
   "source": [
    "Data_sale\n"
   ]
  },
  {
   "cell_type": "code",
   "execution_count": 6,
   "id": "1db1b565",
   "metadata": {},
   "outputs": [
    {
     "name": "stdout",
     "output_type": "stream",
     "text": [
      "<class 'pandas.core.frame.DataFrame'>\n",
      "RangeIndex: 879 entries, 0 to 878\n",
      "Data columns (total 9 columns):\n",
      " #   Column            Non-Null Count  Dtype  \n",
      "---  ------            --------------  -----  \n",
      " 0   product_id        879 non-null    int64  \n",
      " 1   product_category  879 non-null    object \n",
      " 2   sales             879 non-null    object \n",
      " 3   price             879 non-null    float64\n",
      " 4   vendor_id         879 non-null    object \n",
      " 5   pet_size          879 non-null    object \n",
      " 6   pet_type          879 non-null    object \n",
      " 7   rating            879 non-null    int64  \n",
      " 8   re_buy            879 non-null    int64  \n",
      "dtypes: float64(1), int64(3), object(5)\n",
      "memory usage: 61.9+ KB\n"
     ]
    }
   ],
   "source": [
    "Data_sale.info()\n"
   ]
  },
  {
   "cell_type": "code",
   "execution_count": 7,
   "id": "8d5e4fa6",
   "metadata": {},
   "outputs": [],
   "source": [
    "Data_sale['sale1']= Data_sale['sales'].str.strip('$').str.replace(',', '').astype('float')\n"
   ]
  },
  {
   "cell_type": "code",
   "execution_count": 8,
   "id": "c1d9a533",
   "metadata": {},
   "outputs": [
    {
     "data": {
      "text/html": [
       "<div>\n",
       "<style scoped>\n",
       "    .dataframe tbody tr th:only-of-type {\n",
       "        vertical-align: middle;\n",
       "    }\n",
       "\n",
       "    .dataframe tbody tr th {\n",
       "        vertical-align: top;\n",
       "    }\n",
       "\n",
       "    .dataframe thead th {\n",
       "        text-align: right;\n",
       "    }\n",
       "</style>\n",
       "<table border=\"1\" class=\"dataframe\">\n",
       "  <thead>\n",
       "    <tr style=\"text-align: right;\">\n",
       "      <th></th>\n",
       "      <th>product_id</th>\n",
       "      <th>product_category</th>\n",
       "      <th>sales</th>\n",
       "      <th>price</th>\n",
       "      <th>vendor_id</th>\n",
       "      <th>pet_size</th>\n",
       "      <th>pet_type</th>\n",
       "      <th>rating</th>\n",
       "      <th>re_buy</th>\n",
       "      <th>sale1</th>\n",
       "    </tr>\n",
       "  </thead>\n",
       "  <tbody>\n",
       "    <tr>\n",
       "      <th>0</th>\n",
       "      <td>5040</td>\n",
       "      <td>Equipment</td>\n",
       "      <td>$123,000</td>\n",
       "      <td>94.81</td>\n",
       "      <td>VC_1605</td>\n",
       "      <td>small</td>\n",
       "      <td>fish</td>\n",
       "      <td>7</td>\n",
       "      <td>1</td>\n",
       "      <td>123000.0</td>\n",
       "    </tr>\n",
       "    <tr>\n",
       "      <th>1</th>\n",
       "      <td>4567</td>\n",
       "      <td>Toys</td>\n",
       "      <td>$61,000</td>\n",
       "      <td>120.95</td>\n",
       "      <td>VC_1132</td>\n",
       "      <td>small</td>\n",
       "      <td>cat</td>\n",
       "      <td>10</td>\n",
       "      <td>0</td>\n",
       "      <td>61000.0</td>\n",
       "    </tr>\n",
       "    <tr>\n",
       "      <th>2</th>\n",
       "      <td>4237</td>\n",
       "      <td>Toys</td>\n",
       "      <td>$218,000</td>\n",
       "      <td>106.34</td>\n",
       "      <td>VC_802</td>\n",
       "      <td>small</td>\n",
       "      <td>hamster</td>\n",
       "      <td>6</td>\n",
       "      <td>0</td>\n",
       "      <td>218000.0</td>\n",
       "    </tr>\n",
       "    <tr>\n",
       "      <th>3</th>\n",
       "      <td>4364</td>\n",
       "      <td>Snack</td>\n",
       "      <td>$69,000</td>\n",
       "      <td>241.27</td>\n",
       "      <td>VC_929</td>\n",
       "      <td>large</td>\n",
       "      <td>dog</td>\n",
       "      <td>1</td>\n",
       "      <td>1</td>\n",
       "      <td>69000.0</td>\n",
       "    </tr>\n",
       "    <tr>\n",
       "      <th>4</th>\n",
       "      <td>4184</td>\n",
       "      <td>Supplements</td>\n",
       "      <td>$138,000</td>\n",
       "      <td>133.68</td>\n",
       "      <td>VC_749</td>\n",
       "      <td>large</td>\n",
       "      <td>dog</td>\n",
       "      <td>10</td>\n",
       "      <td>0</td>\n",
       "      <td>138000.0</td>\n",
       "    </tr>\n",
       "  </tbody>\n",
       "</table>\n",
       "</div>"
      ],
      "text/plain": [
       "   product_id product_category      sales   price vendor_id pet_size pet_type  \\\n",
       "0        5040        Equipment  $123,000    94.81   VC_1605    small     fish   \n",
       "1        4567             Toys   $61,000   120.95   VC_1132    small      cat   \n",
       "2        4237             Toys  $218,000   106.34    VC_802    small  hamster   \n",
       "3        4364            Snack   $69,000   241.27    VC_929    large      dog   \n",
       "4        4184      Supplements  $138,000   133.68    VC_749    large      dog   \n",
       "\n",
       "   rating  re_buy     sale1  \n",
       "0       7       1  123000.0  \n",
       "1      10       0   61000.0  \n",
       "2       6       0  218000.0  \n",
       "3       1       1   69000.0  \n",
       "4      10       0  138000.0  "
      ]
     },
     "execution_count": 8,
     "metadata": {},
     "output_type": "execute_result"
    }
   ],
   "source": [
    "Data_sale.head()"
   ]
  },
  {
   "cell_type": "code",
   "execution_count": 9,
   "id": "250bd81b",
   "metadata": {},
   "outputs": [
    {
     "data": {
      "text/plain": [
       "116094.42548350398"
      ]
     },
     "execution_count": 9,
     "metadata": {},
     "output_type": "execute_result"
    }
   ],
   "source": [
    "# test the hypothesy that for a give amount of sales the mean is 100000\n",
    "mean_sales= Data_sale['sale1'].mean()\n",
    "mean_sales"
   ]
  },
  {
   "cell_type": "code",
   "execution_count": 11,
   "id": "dde4bef4",
   "metadata": {},
   "outputs": [],
   "source": [
    "# determine the error terms to be use in the t test. \n",
    "erro_dist= []\n",
    "for i in range(5000):\n",
    "    erro_dist.append(np.mean(\n",
    "        Data_sale.sample(frac=1, replace= True)['sale1']\n",
    "    )\n",
    "                    )"
   ]
  },
  {
   "cell_type": "code",
   "execution_count": 12,
   "id": "dab86c10",
   "metadata": {},
   "outputs": [
    {
     "data": {
      "image/png": "[encoded data removed]",
      "text/plain": [
       "<Figure size 432x288 with 1 Axes>"
      ]
     },
     "metadata": {
      "needs_background": "light"
     },
     "output_type": "display_data"
    }
   ],
   "source": [
    "# visualise the distribution\n",
    "plt.hist(erro_dist, bins=50)\n",
    "plt.show()"
   ]
  },
  {
   "cell_type": "code",
   "execution_count": 13,
   "id": "f4ec9bc9",
   "metadata": {},
   "outputs": [
    {
     "data": {
      "text/plain": [
       "2261.6151608796827"
      ]
     },
     "execution_count": 13,
     "metadata": {},
     "output_type": "execute_result"
    }
   ],
   "source": [
    "# get the standard deviation of the erro term\n",
    "standart= np.std(erro_dist, ddof=1)\n",
    "standart"
   ]
  },
  {
   "cell_type": "code",
   "execution_count": 14,
   "id": "f516bb8c",
   "metadata": {},
   "outputs": [
    {
     "data": {
      "text/plain": [
       "7.116341348385661"
      ]
     },
     "execution_count": 14,
     "metadata": {},
     "output_type": "execute_result"
    }
   ],
   "source": [
    "#find the z-score\n",
    "Z_score= (mean_sales-100000)/standart\n",
    "Z_score"
   ]
  },
  {
   "cell_type": "code",
   "execution_count": 15,
   "id": "cfa77b8a",
   "metadata": {},
   "outputs": [
    {
     "data": {
      "text/plain": [
       "5.541123115904156e-13"
      ]
     },
     "execution_count": 15,
     "metadata": {},
     "output_type": "execute_result"
    }
   ],
   "source": [
    "from scipy.stats import norm\n",
    "1-norm.cdf(Z_score, loc=0,scale=1)"
   ]
  },
  {
   "cell_type": "code",
   "execution_count": 17,
   "id": "5f4b3612",
   "metadata": {},
   "outputs": [],
   "source": [
    "# are smaller pets having beteer sales that larher pets\n",
    "\n",
    "m=Data_sale.groupby(\"pet_size\")['sale1'].mean()"
   ]
  },
  {
   "cell_type": "code",
   "execution_count": 18,
   "id": "283774f3",
   "metadata": {},
   "outputs": [],
   "source": [
    "s=Data_sale.groupby('pet_size')['sale1'].std()"
   ]
  },
  {
   "cell_type": "code",
   "execution_count": 40,
   "id": "1ea4f0f4",
   "metadata": {},
   "outputs": [
    {
     "data": {
      "text/plain": [
       "pet_size\n",
       "extra_large    69433.273184\n",
       "extra_small    61803.371059\n",
       "large          68805.940515\n",
       "medium         66727.761902\n",
       "small          65631.285450\n",
       "Name: sale1, dtype: float64"
      ]
     },
     "execution_count": 40,
     "metadata": {},
     "output_type": "execute_result"
    }
   ],
   "source": [
    "s"
   ]
  },
  {
   "cell_type": "code",
   "execution_count": 39,
   "id": "8261208a",
   "metadata": {},
   "outputs": [
    {
     "data": {
      "text/plain": [
       "pet_type\n",
       "cat        347\n",
       "dog        347\n",
       "fish        70\n",
       "bird        69\n",
       "hamster     23\n",
       "rabbit      23\n",
       "Name: count, dtype: int64"
      ]
     },
     "execution_count": 39,
     "metadata": {},
     "output_type": "execute_result"
    }
   ],
   "source": [
    "# Anova test of difference ingroups\n",
    "value_c= Data_sale['pet_type'].value_counts()\n",
    "value_c\n"
   ]
  },
  {
   "cell_type": "code",
   "execution_count": 38,
   "id": "e1843872",
   "metadata": {},
   "outputs": [
    {
     "data": {
      "image/png": "[encoded data removed]",
      "text/plain": [
       "<Figure size 432x288 with 1 Axes>"
      ]
     },
     "metadata": {
      "needs_background": "light"
     },
     "output_type": "display_data"
    }
   ],
   "source": [
    "sns.boxplot(x='pet_type',\n",
    "          y='sale1',\n",
    "          data= Data_sale)\n",
    "plt.show()"
   ]
  },
  {
   "cell_type": "code",
   "execution_count": 35,
   "id": "eb7088de",
   "metadata": {},
   "outputs": [
    {
     "data": {
      "text/html": [
       "<div>\n",
       "<style scoped>\n",
       "    .dataframe tbody tr th:only-of-type {\n",
       "        vertical-align: middle;\n",
       "    }\n",
       "\n",
       "    .dataframe tbody tr th {\n",
       "        vertical-align: top;\n",
       "    }\n",
       "\n",
       "    .dataframe thead th {\n",
       "        text-align: right;\n",
       "    }\n",
       "</style>\n",
       "<table border=\"1\" class=\"dataframe\">\n",
       "  <thead>\n",
       "    <tr style=\"text-align: right;\">\n",
       "      <th></th>\n",
       "      <th>Source</th>\n",
       "      <th>ddof1</th>\n",
       "      <th>ddof2</th>\n",
       "      <th>F</th>\n",
       "      <th>p-unc</th>\n",
       "      <th>np2</th>\n",
       "    </tr>\n",
       "  </thead>\n",
       "  <tbody>\n",
       "    <tr>\n",
       "      <th>0</th>\n",
       "      <td>pet_size</td>\n",
       "      <td>4</td>\n",
       "      <td>874</td>\n",
       "      <td>0.373154</td>\n",
       "      <td>0.827872</td>\n",
       "      <td>0.001705</td>\n",
       "    </tr>\n",
       "  </tbody>\n",
       "</table>\n",
       "</div>"
      ],
      "text/plain": [
       "     Source  ddof1  ddof2         F     p-unc       np2\n",
       "0  pet_size      4    874  0.373154  0.827872  0.001705"
      ]
     },
     "execution_count": 35,
     "metadata": {},
     "output_type": "execute_result"
    }
   ],
   "source": [
    "# analysi of variance\n",
    "import pingouin\n",
    "pingouin.anova(data=Data_sale,\n",
    "              dv='sale1',\n",
    "              between='pet_size')"
   ]
  },
  {
   "cell_type": "code",
   "execution_count": 36,
   "id": "e2729614",
   "metadata": {},
   "outputs": [
    {
     "name": "stdout",
     "output_type": "stream",
     "text": [
      "(879, 2) (879,)\n"
     ]
    }
   ],
   "source": [
    "from sklearn.neighbors import KNeighborsClassifier\n",
    "\n",
    "x= Data_sale[['sale1', 'rating']].values\n",
    "y= Data_sale['re_buy'].values\n",
    "\n",
    "print(x.shape, y.shape)"
   ]
  },
  {
   "cell_type": "code",
   "execution_count": 42,
   "id": "918c8d5f",
   "metadata": {},
   "outputs": [
    {
     "data": {
      "text/plain": [
       "KNeighborsClassifier(n_neighbors=15)"
      ]
     },
     "execution_count": 42,
     "metadata": {},
     "output_type": "execute_result"
    }
   ],
   "source": [
    "knn= KNeighborsClassifier(n_neighbors=15)\n",
    "knn.fit(x,y)"
   ]
  },
  {
   "cell_type": "code",
   "execution_count": 43,
   "id": "c2ac1049",
   "metadata": {},
   "outputs": [
    {
     "name": "stdout",
     "output_type": "stream",
     "text": [
      "[[ 50000      5]\n",
      " [ 70000      9]\n",
      " [100000      8]]\n"
     ]
    }
   ],
   "source": [
    "# new data to predict\n",
    "x_new=np.array([[50000, 5],[70000,9],[100000,8]])\n",
    "print(x_new)"
   ]
  },
  {
   "cell_type": "code",
   "execution_count": 46,
   "id": "4d454839",
   "metadata": {},
   "outputs": [
    {
     "name": "stdout",
     "output_type": "stream",
     "text": [
      "Predictions: [1 0 0]\n"
     ]
    }
   ],
   "source": [
    "# predict the  kk means\n",
    "predictions= knn.predict(x_new)\n",
    "print('Predictions: {}'. format(predictions))"
   ]
  },
  {
   "cell_type": "code",
   "execution_count": 47,
   "id": "65e6e225",
   "metadata": {},
   "outputs": [
    {
     "name": "stdout",
     "output_type": "stream",
     "text": [
      "0.5643939393939394\n"
     ]
    }
   ],
   "source": [
    "from sklearn.model_selection import train_test_split\n",
    "x_train, x_test, y_train, y_test = train_test_split(x, y, test_size=0.3, \n",
    "                                                    random_state=21, stratify=y)\n",
    "knn = KNeighborsClassifier(n_neighbors=6)\n",
    "knn.fit(x_train, y_train)\n",
    "print(knn.score(x_test, y_test))"
   ]
  },
  {
   "cell_type": "code",
   "execution_count": null,
   "id": "34d7507a",
   "metadata": {},
   "outputs": [],
   "source": []
  },
  {
   "cell_type": "code",
   "execution_count": 48,
   "id": "0b6cb104",
   "metadata": {},
   "outputs": [],
   "source": [
    "train_accuracies = {}\n",
    "test_accuracies = {}\n",
    "neighbors = np.arange(1, 26)\n",
    "for neighbor in neighbors:\n",
    "    knn = KNeighborsClassifier(n_neighbors=neighbor)\n",
    "    knn.fit(x_train, y_train)\n",
    "    train_accuracies[neighbor] = knn.score(x_train, y_train)\n",
    "    test_accuracies[neighbor] = knn.score(x_test, y_test)\n"
   ]
  },
  {
   "cell_type": "code",
   "execution_count": 49,
   "id": "84dcdd53",
   "metadata": {},
   "outputs": [
    {
     "data": {
      "image/png": "[encoded data removed]",
      "text/plain": [
       "<Figure size 576x432 with 1 Axes>"
      ]
     },
     "metadata": {
      "needs_background": "light"
     },
     "output_type": "display_data"
    }
   ],
   "source": [
    "plt.figure(figsize=(8, 6))\n",
    "plt.title(\"KNN: Varying Number of Neighbors\")\n",
    "plt.plot(neighbors, train_accuracies.values(), label=\"Training Accuracy\")\n",
    "plt.plot(neighbors, test_accuracies.values(), label=\"Testing Accuracy\")\n",
    "plt.legend()\n",
    "plt.xlabel(\"Number of Neighbors\")\n",
    "plt.ylabel(\"Accuracy\")\n",
    "plt.show()"
   ]
  },
  {
   "cell_type": "code",
   "execution_count": 50,
   "id": "2657aeed",
   "metadata": {},
   "outputs": [],
   "source": [
    "# regression studies\n",
    "reg= Data_sale\n",
    "bx= reg.drop('re_buy', axis=1).values\n",
    "by=reg['re_buy'].values\n"
   ]
  },
  {
   "cell_type": "code",
   "execution_count": null,
   "id": "64d958bb",
   "metadata": {},
   "outputs": [],
   "source": []
  },
  {
   "cell_type": "code",
   "execution_count": 119,
   "id": "1da245d1",
   "metadata": {},
   "outputs": [
    {
     "name": "stdout",
     "output_type": "stream",
     "text": [
      "<class 'numpy.ndarray'> <class 'numpy.ndarray'>\n"
     ]
    }
   ],
   "source": [
    "print(type(bx), type(by))"
   ]
  },
  {
   "cell_type": "code",
   "execution_count": 51,
   "id": "294268f0",
   "metadata": {},
   "outputs": [
    {
     "data": {
      "image/png": "[encoded data removed]",
      "text/plain": [
       "<Figure size 432x288 with 1 Axes>"
      ]
     },
     "metadata": {
      "needs_background": "light"
     },
     "output_type": "display_data"
    }
   ],
   "source": [
    "# predict a single feature of regrati\n",
    "rating= bx[:,7]\n",
    "rating= rating.reshape(-1,1)\n",
    "plt.scatter(rating, by)\n",
    "plt.show()"
   ]
  },
  {
   "cell_type": "code",
   "execution_count": 134,
   "id": "f355d845",
   "metadata": {},
   "outputs": [
    {
     "data": {
      "text/plain": [
       "[<matplotlib.lines.Line2D at 0x1df161f1dc0>]"
      ]
     },
     "execution_count": 134,
     "metadata": {},
     "output_type": "execute_result"
    },
    {
     "data": {
      "image/png": "[encoded data removed]",
      "text/plain": [
       "<Figure size 432x288 with 1 Axes>"
      ]
     },
     "metadata": {
      "needs_background": "light"
     },
     "output_type": "display_data"
    }
   ],
   "source": [
    "from sklearn.linear_model import LinearRegression\n",
    "regg= LinearRegression()\n",
    "regg.fit(rating, by)\n",
    "predictions=regg.predict(rating)\n",
    "plt.scatter(rating,by)\n",
    "plt.plot(rating, predictions)\n"
   ]
  },
  {
   "cell_type": "code",
   "execution_count": 139,
   "id": "2573b019",
   "metadata": {},
   "outputs": [
    {
     "data": {
      "text/plain": [
       "0.005355711539129948"
      ]
     },
     "execution_count": 139,
     "metadata": {},
     "output_type": "execute_result"
    }
   ],
   "source": [
    "from sklearn.model_selection import train_test_split\n",
    "x_train, x_test, y_train, y_test = train_test_split(x, y, test_size=0.3, \n",
    "                                                    random_state=21, stratify=y)\n",
    "regg= LinearRegression()\n",
    "regg.fit(x_train, y_train)\n",
    "y_predict= regg.predict(x_test)\n",
    "regg.score(x_test, y_test)\n"
   ]
  }
 ],
 "metadata": {
  "kernelspec": {
   "display_name": "Python 3 (ipykernel)",
   "language": "python",
   "name": "python3"
  },
  "language_info": {
   "codemirror_mode": {
    "name": "ipython",
    "version": 3
   },
   "file_extension": ".py",
   "mimetype": "text/x-python",
   "name": "python",
   "nbconvert_exporter": "python",
   "pygments_lexer": "ipython3",
   "version": "3.9.12"
  }
 },
 "nbformat": 4,
 "nbformat_minor": 5
}
